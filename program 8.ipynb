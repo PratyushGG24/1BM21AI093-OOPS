{
 "cells": [
  {
   "cell_type": "code",
   "execution_count": null,
   "id": "56c166e8",
   "metadata": {},
   "outputs": [],
   "source": [
    "import threading\n",
    "import time\n",
    "import random\n",
    "import queue  # Import the queue module\n",
    "\n",
    "def generate_random_integer():\n",
    "    while True:\n",
    "        value = random.randint(1, 100)\n",
    "        print(f\"Generated: {value}\")\n",
    "        if value % 2 == 0:\n",
    "            even_queue.put(value)\n",
    "        else:\n",
    "            odd_queue.put(value)\n",
    "        time.sleep(1)\n",
    "\n",
    "def compute_square():\n",
    "    while True:\n",
    "        value = even_queue.get()\n",
    "        square_value = value ** 2\n",
    "        print(f\"Square: {square_value}\")\n",
    "        even_queue.task_done()\n",
    "\n",
    "def compute_cube():\n",
    "    while True:\n",
    "        value = odd_queue.get()\n",
    "        cube_value = value ** 3\n",
    "        print(f\"Cube: {cube_value}\")\n",
    "        odd_queue.task_done()\n",
    "\n",
    "# Queue to store even and odd numbers separately\n",
    "even_queue = queue.Queue()\n",
    "odd_queue = queue.Queue()\n",
    "\n",
    "# Create and start threads\n",
    "thread1 = threading.Thread(target=generate_random_integer)\n",
    "thread2 = threading.Thread(target=compute_square)\n",
    "thread3 = threading.Thread(target=compute_cube)\n",
    "\n",
    "thread1.start()\n",
    "thread2.start()\n",
    "thread3.start()\n",
    "\n",
    "# Wait for threads to finish (This is optional, you can remove if the threads are meant to run indefinitely)\n",
    "thread1.join()\n",
    "thread2.join()\n",
    "thread3.join()\n"
   ]
  },
  {
   "cell_type": "code",
   "execution_count": null,
   "id": "8c3d1eef",
   "metadata": {},
   "outputs": [],
   "source": []
  }
 ],
 "metadata": {
  "kernelspec": {
   "display_name": "Python 3 (ipykernel)",
   "language": "python",
   "name": "python3"
  },
  "language_info": {
   "codemirror_mode": {
    "name": "ipython",
    "version": 3
   },
   "file_extension": ".py",
   "mimetype": "text/x-python",
   "name": "python",
   "nbconvert_exporter": "python",
   "pygments_lexer": "ipython3",
   "version": "3.11.5"
  }
 },
 "nbformat": 4,
 "nbformat_minor": 5
}
