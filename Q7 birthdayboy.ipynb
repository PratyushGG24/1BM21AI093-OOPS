{
 "cells": [
  {
   "cell_type": "code",
   "execution_count": null,
   "id": "5881a4e5",
   "metadata": {},
   "outputs": [],
   "source": []
  },
  {
   "cell_type": "code",
   "execution_count": 14,
   "id": "6b04a672",
   "metadata": {},
   "outputs": [
    {
     "name": "stdout",
     "output_type": "stream",
     "text": [
      "Peda's age: 21\n",
      "After celebrating birthday, Peda's age: 22\n"
     ]
    }
   ],
   "source": [
    "class BirthdayBoy:\n",
    "    def __init__(self, name, age):\n",
    "        self.name = name\n",
    "        self.age = age\n",
    "\n",
    "    def celebrate_birthday(self):\n",
    "        self.age += 1\n",
    "\n",
    "\n",
    "birthday_person = BirthdayBoy(name=\"Peda\", age=21)\n",
    "\n",
    "print(f\"{birthday_person.name}'s age: {birthday_person.age}\")\n",
    "\n",
    "\n",
    "birthday_person.celebrate_birthday()\n",
    "\n",
    "print(f\"After celebrating birthday, {birthday_person.name}'s age: {birthday_person.age}\")"
   ]
  },
  {
   "cell_type": "code",
   "execution_count": null,
   "id": "1c9ddcbf",
   "metadata": {},
   "outputs": [],
   "source": []
  },
  {
   "cell_type": "code",
   "execution_count": null,
   "id": "2378e549",
   "metadata": {},
   "outputs": [],
   "source": []
  }
 ],
 "metadata": {
  "kernelspec": {
   "display_name": "Python 3 (ipykernel)",
   "language": "python",
   "name": "python3"
  },
  "language_info": {
   "codemirror_mode": {
    "name": "ipython",
    "version": 3
   },
   "file_extension": ".py",
   "mimetype": "text/x-python",
   "name": "python",
   "nbconvert_exporter": "python",
   "pygments_lexer": "ipython3",
   "version": "3.11.3"
  }
 },
 "nbformat": 4,
 "nbformat_minor": 5
}
