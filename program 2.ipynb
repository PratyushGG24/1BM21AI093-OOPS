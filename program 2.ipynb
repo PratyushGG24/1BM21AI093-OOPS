{
 "cells": [
  {
   "cell_type": "code",
   "execution_count": 3,
   "id": "21f960e6",
   "metadata": {},
   "outputs": [
    {
     "name": "stdout",
     "output_type": "stream",
     "text": [
      "may god bless you,\n",
      "have a sunshine on you\n",
      "happy birthday to you\n"
     ]
    }
   ],
   "source": [
    "class Songs:\n",
    "    def __init__(self, lyrics):\n",
    "        self.lyrics = lyrics\n",
    "\n",
    "    def sing_me_a_song(self):\n",
    "        for line in self.lyrics:\n",
    "            print(line)\n",
    "\n",
    "song_lyrics = [\n",
    "    \"may god bless you,\",\n",
    "    \"have a sunshine on you\",\n",
    "    \"happy birthday to you\"\n",
    "]\n",
    "\n",
    "song_instance = Songs(song_lyrics)\n",
    "\n",
    "song_instance.sing_me_a_song()"
   ]
  },
  {
   "cell_type": "code",
   "execution_count": 4,
   "id": "488a0d21",
   "metadata": {},
   "outputs": [
    {
     "name": "stdout",
     "output_type": "stream",
     "text": [
      "Buddy says: bow! bow!\n",
      "Max's name has been set successfully.\n",
      "Max is approximately 35 dog years old.\n"
     ]
    }
   ],
   "source": [
    "class Dog:\n",
    "    def __init__(self, name, size, breed='unknown', dob='unknown'):\n",
    "        self.name = name.title()  \n",
    "        self.size = size\n",
    "        self.breed = breed\n",
    "        self.dob = dob\n",
    "\n",
    "    def bark(self):\n",
    "        print(f\"{self.name} says: bow! bow!\")\n",
    "\n",
    "    def set_name(self, new_name):\n",
    "        if 2 <= len(new_name) <= 30 and new_name.isalpha():\n",
    "            self.name = new_name.title()\n",
    "            print(f\"{self.name}'s name has been set successfully.\")\n",
    "        else:\n",
    "            print(\"Invalid name. Please enter a name between 2 and 30 alphabetical characters.\")\n",
    "\n",
    "    def age(self, current_year):\n",
    "        if self.dob == 'unknown':\n",
    "            print(f\"The age of {self.name} cannot be calculated without a valid date of birth.\")\n",
    "        else:\n",
    "            birth_year = int(self.dob.split(\"/\")[-1])\n",
    "            dog_years = (current_year - birth_year) * 7\n",
    "            print(f\"{self.name} is approximately {dog_years} dog years old.\")\n",
    "\n",
    "\n",
    "dog_instance = Dog(name=\"Buddy\", size=\"Medium\", breed=\"Labrador\", dob=\"15/05/2018\")\n",
    "\n",
    "dog_instance.bark()\n",
    "dog_instance.set_name(\"Max\")\n",
    "dog_instance.age(current_year=2023)"
   ]
  }
 ],
 "metadata": {
  "kernelspec": {
   "display_name": "Python 3 (ipykernel)",
   "language": "python",
   "name": "python3"
  },
  "language_info": {
   "codemirror_mode": {
    "name": "ipython",
    "version": 3
   },
   "file_extension": ".py",
   "mimetype": "text/x-python",
   "name": "python",
   "nbconvert_exporter": "python",
   "pygments_lexer": "ipython3",
   "version": "3.11.5"
  }
 },
 "nbformat": 4,
 "nbformat_minor": 5
}
