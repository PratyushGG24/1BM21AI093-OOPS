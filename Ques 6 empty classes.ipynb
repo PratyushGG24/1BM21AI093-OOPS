{
 "cells": [
  {
   "cell_type": "code",
   "execution_count": 10,
   "id": "5881a4e5",
   "metadata": {},
   "outputs": [
    {
     "name": "stdout",
     "output_type": "stream",
     "text": [
      "Is student_instance an instance of Student? True\n",
      "Is marks_instance an instance of Marks? True\n",
      "Is Student a subclass of object? True\n",
      "Is Marks a subclass of object? True\n"
     ]
    }
   ],
   "source": [
    "class student():\n",
    "    pass\n",
    "class marks():\n",
    "    pass\n",
    "\n",
    "student_instance=student()\n",
    "marks_instance=marks()\n",
    "\n",
    "is_student_instance=isinstance(student_instance,student)\n",
    "is_marks_instance=isinstance(marks_instance,marks)\n",
    "\n",
    "print(f\"Is student_instance an instance of Student? {is_student_instance}\")\n",
    "print(f\"Is marks_instance an instance of Marks? {is_marks_instance}\")\n",
    "\n",
    "is_student_subclass = issubclass(student, object)\n",
    "is_marks_subclass = issubclass(marks, object)\n",
    "\n",
    "print(f\"Is Student a subclass of object? {is_student_subclass}\")\n",
    "print(f\"Is Marks a subclass of object? {is_marks_subclass}\")\n"
   ]
  },
  {
   "cell_type": "code",
   "execution_count": 11,
   "id": "1e4e96f6",
   "metadata": {},
   "outputs": [
    {
     "ename": "SyntaxError",
     "evalue": "invalid syntax (3412261053.py, line 2)",
     "output_type": "error",
     "traceback": [
      "\u001b[1;36m  Cell \u001b[1;32mIn[11], line 2\u001b[1;36m\u001b[0m\n\u001b[1;33m    def -init_(self,name,age)\u001b[0m\n\u001b[1;37m        ^\u001b[0m\n\u001b[1;31mSyntaxError\u001b[0m\u001b[1;31m:\u001b[0m invalid syntax\n"
     ]
    }
   ],
   "source": [
    "class birthdayboy:\n",
    "    def -init_(self,name,age)\n",
    "    self.name-name\n",
    "    self.age-age "
   ]
  },
  {
   "cell_type": "code",
   "execution_count": null,
   "id": "00f0241b",
   "metadata": {},
   "outputs": [],
   "source": [
    " class"
   ]
  }
 ],
 "metadata": {
  "kernelspec": {
   "display_name": "Python 3 (ipykernel)",
   "language": "python",
   "name": "python3"
  },
  "language_info": {
   "codemirror_mode": {
    "name": "ipython",
    "version": 3
   },
   "file_extension": ".py",
   "mimetype": "text/x-python",
   "name": "python",
   "nbconvert_exporter": "python",
   "pygments_lexer": "ipython3",
   "version": "3.11.3"
  }
 },
 "nbformat": 4,
 "nbformat_minor": 5
}
