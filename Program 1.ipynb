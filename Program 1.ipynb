{
 "cells": [
  {
   "cell_type": "code",
   "execution_count": 1,
   "id": "0194a7ce",
   "metadata": {},
   "outputs": [
    {
     "name": "stdout",
     "output_type": "stream",
     "text": [
      "Is 'student_instance' an instance of 'Student' class? True\n",
      "Is 'marks_instance' an instance of 'Marks' class? True\n",
      "Is 'student_subclass' an subclass of 'Student' class? True\n",
      "Is 'marks_subclass' an subclass of 'Marks' class? True\n"
     ]
    }
   ],
   "source": [
    "class Student:\n",
    "    pass\n",
    "\n",
    "class Marks:\n",
    "    pass\n",
    "\n",
    "\n",
    "student_instance = Student()\n",
    "marks_instance = Marks()\n",
    "\n",
    "\n",
    "is_student_instance = isinstance(student_instance, Student)\n",
    "is_marks_instance = isinstance(marks_instance, Marks)\n",
    "\n",
    "\n",
    "print(f\"Is 'student_instance' an instance of 'Student' class? {is_student_instance}\")\n",
    "print(f\"Is 'marks_instance' an instance of 'Marks' class? {is_marks_instance}\")\n",
    "\n",
    "is_student_subclass = issubclass(Student,object)\n",
    "is_marks_subclass = issubclass(Marks,object)\n",
    "\n",
    "\n",
    "print(f\"Is 'student_subclass' an subclass of 'Student' class? {is_student_subclass}\")\n",
    "print(f\"Is 'marks_subclass' an subclass of 'Marks' class? {is_marks_subclass}\")"
   ]
  },
  {
   "cell_type": "code",
   "execution_count": 2,
   "id": "6c17b46e",
   "metadata": {},
   "outputs": [
    {
     "name": "stdout",
     "output_type": "stream",
     "text": [
      "Enter first complex number\n",
      "Enter the Real Part: 24\n",
      "Enter the Imaginary Part: 34\n",
      "First Complex Number: 24+34i\n",
      "Enter second complex number\n",
      "Enter the Real Part: 55\n",
      "Enter the Imaginary Part: 67\n",
      "Second Complex Number: 55+67i\n",
      "Sum of two complex numbers is 79+101i\n"
     ]
    }
   ],
   "source": [
    "class Complex ():\n",
    "    def initComplex(self):\n",
    "        self.realPart = int(input(\"Enter the Real Part: \"))\n",
    "        self.imgPart = int(input(\"Enter the Imaginary Part: \"))            \n",
    "    def display(self):\n",
    "        print(self.realPart,\"+\",self.imgPart,\"i\", sep=\"\")\n",
    "    def sum(self, c1, c2):\n",
    "        self.realPart = c1.realPart + c2.realPart\n",
    "        self.imgPart = c1.imgPart + c2.imgPart\n",
    "c1 = Complex()\n",
    "c2 = Complex()\n",
    "c3 = Complex()\n",
    "print(\"Enter first complex number\")\n",
    "c1.initComplex()\n",
    "print(\"First Complex Number: \", end=\"\")\n",
    "c1.display()\n",
    "print(\"Enter second complex number\")\n",
    "c2.initComplex()\n",
    "print(\"Second Complex Number: \", end=\"\")\n",
    "c2.display()\n",
    "print(\"Sum of two complex numbers is \", end=\"\")\n",
    "c3.sum(c1,c2)\n",
    "c3.display()"
   ]
  },
  {
   "cell_type": "code",
   "execution_count": null,
   "id": "c11dfadb",
   "metadata": {},
   "outputs": [],
   "source": []
  }
 ],
 "metadata": {
  "kernelspec": {
   "display_name": "Python 3 (ipykernel)",
   "language": "python",
   "name": "python3"
  },
  "language_info": {
   "codemirror_mode": {
    "name": "ipython",
    "version": 3
   },
   "file_extension": ".py",
   "mimetype": "text/x-python",
   "name": "python",
   "nbconvert_exporter": "python",
   "pygments_lexer": "ipython3",
   "version": "3.11.5"
  }
 },
 "nbformat": 4,
 "nbformat_minor": 5
}
