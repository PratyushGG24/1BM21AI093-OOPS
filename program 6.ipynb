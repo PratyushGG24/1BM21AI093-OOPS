{
 "cells": [
  {
   "cell_type": "code",
   "execution_count": 10,
   "id": "7b9be080",
   "metadata": {},
   "outputs": [
    {
     "name": "stdout",
     "output_type": "stream",
     "text": [
      "Father and Son ages are valid.\n"
     ]
    }
   ],
   "source": [
    "# Define custom exception WrongAge\n",
    "class WrongAge(Exception):\n",
    "    def __init__(self, message=\"Age should be greater than or equal to 0\"):\n",
    "        self.message = message\n",
    "        super().__init__(self.message)\n",
    "\n",
    "# Define custom exception AgeInvalid\n",
    "class AgeInvalid(Exception):\n",
    "    def __init__(self, message=\"Son's age should be less than Father's age\"):\n",
    "        self.message = message\n",
    "        super().__init__(self.message)\n",
    "\n",
    "# Base class Father\n",
    "class Father:\n",
    "    def __init__(self, age):\n",
    "        if age < 0:\n",
    "            raise WrongAge(\"Father's age cannot be less than 0\")\n",
    "        self.age = age\n",
    "\n",
    "# Derived class Son\n",
    "class Son(Father):\n",
    "    def __init__(self, father_age, son_age):\n",
    "        super().__init__(father_age)  # Call the constructor of the base class\n",
    "\n",
    "        if son_age >= father_age:\n",
    "            raise AgeInvalid(\"Son's age cannot be greater than or equal to Father's age\")\n",
    "\n",
    "        self.son_age = son_age\n",
    "\n",
    "# Example usage\n",
    "try:\n",
    "    father = Father(45)\n",
    "    son = Son(45, 20)\n",
    "except WrongAge as e:\n",
    "    print(f\"Error: {e}\")\n",
    "except AgeInvalid as e:\n",
    "    print(f\"Error: {e}\")\n",
    "else:\n",
    "    print(\"Father and Son ages are valid.\")\n"
   ]
  },
  {
   "cell_type": "code",
   "execution_count": 11,
   "id": "405020f3",
   "metadata": {},
   "outputs": [
    {
     "name": "stdout",
     "output_type": "stream",
     "text": [
      "Enter a formula (or 'quit' to exit): 12+12\n",
      "Error: Invalid number format. Please enter valid numbers.\n",
      "Enter a formula (or 'quit' to exit): 12+\n",
      "Error: Invalid number format. Please enter valid numbers.\n",
      "Enter a formula (or 'quit' to exit): 12 + 12\n",
      "Result: 24.0\n",
      "Enter a formula (or 'quit' to exit): exit\n",
      "Error: Invalid number format. Please enter valid numbers.\n",
      "Enter a formula (or 'quit' to exit): quit\n"
     ]
    }
   ],
   "source": [
    "# Define custom exception FormulaError\n",
    "class FormulaError(Exception):\n",
    "    def __init__(self, message=\"Invalid formula\"):\n",
    "        self.message = message\n",
    "        super().__init__(self.message)\n",
    "\n",
    "# Function to perform the calculation\n",
    "def calculate(formula):\n",
    "    try:\n",
    "        # Split the formula into three parts: number, operator, number\n",
    "        num1, operator, num2 = formula.split()\n",
    "\n",
    "        # Convert the first and third inputs to float\n",
    "        float_num1 = float(num1)\n",
    "        float_num2 = float(num2)\n",
    "\n",
    "        # Check if the operator is either '+' or '-'\n",
    "        if operator not in ['+', '-']:\n",
    "            raise FormulaError(\"Invalid operator. Use only '+' or '-'.\")\n",
    "\n",
    "        # Perform the calculation\n",
    "        result = float_num1 + float_num2 if operator == '+' else float_num1 - float_num2\n",
    "\n",
    "        # Print the result\n",
    "        print(f\"Result: {result}\")\n",
    "\n",
    "    except ValueError:\n",
    "        raise FormulaError(\"Invalid number format. Please enter valid numbers.\")\n",
    "    except Exception as e:\n",
    "        raise FormulaError(str(e))\n",
    "\n",
    "# Interactive calculator loop\n",
    "while True:\n",
    "    user_input = input(\"Enter a formula (or 'quit' to exit): \").strip()\n",
    "\n",
    "    if user_input.lower() == 'quit':\n",
    "        break\n",
    "\n",
    "    try:\n",
    "        calculate(user_input)\n",
    "    except FormulaError as e:\n",
    "        print(f\"Error: {e}\")\n"
   ]
  },
  {
   "cell_type": "code",
   "execution_count": null,
   "id": "ab9d48ef",
   "metadata": {},
   "outputs": [],
   "source": []
  }
 ],
 "metadata": {
  "kernelspec": {
   "display_name": "Python 3 (ipykernel)",
   "language": "python",
   "name": "python3"
  },
  "language_info": {
   "codemirror_mode": {
    "name": "ipython",
    "version": 3
   },
   "file_extension": ".py",
   "mimetype": "text/x-python",
   "name": "python",
   "nbconvert_exporter": "python",
   "pygments_lexer": "ipython3",
   "version": "3.11.5"
  }
 },
 "nbformat": 4,
 "nbformat_minor": 5
}
