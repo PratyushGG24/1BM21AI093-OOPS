{
 "cells": [
  {
   "cell_type": "code",
   "execution_count": 5,
   "id": "09eb04ea",
   "metadata": {},
   "outputs": [
    {
     "name": "stdout",
     "output_type": "stream",
     "text": [
      "Initial balance: rs1000\n",
      "Deposit of rs200 successful. New balance: rs1200\n",
      "Withdrawal of rs50 successful. Remaining balance: rs1150\n",
      "Current balance: rs1150\n",
      "Current salary: rs5000\n",
      "Salary updated to rs6000\n",
      "Updated salary: rs6000\n"
     ]
    }
   ],
   "source": [
    "class CreditClass:\n",
    "    def __init__(self, initial_balance=0, salary=0):\n",
    "        self._balance = initial_balance  \n",
    "        self.__salary = salary  \n",
    "\n",
    "    def get_balance(self):\n",
    "        return self._balance\n",
    "\n",
    "    def withdraw(self, amount):\n",
    "        if amount > 0 and amount <= self._balance:\n",
    "            self._balance -= amount\n",
    "            print(f\"Withdrawal of rs{amount} successful. Remaining balance: rs{self._balance}\")\n",
    "        else:\n",
    "            print(\"Invalid withdrawal amount or insufficient funds.\")\n",
    "\n",
    "    def deposit(self, amount):\n",
    "        if amount > 0:\n",
    "            self._balance += amount\n",
    "            print(f\"Deposit of rs{amount} successful. New balance: rs{self._balance}\")\n",
    "        else:\n",
    "            print(\"Invalid deposit amount.\")\n",
    "\n",
    "   \n",
    "    def get_salary(self):\n",
    "        return self.__salary\n",
    "\n",
    "   \n",
    "    def set_salary(self, new_salary):\n",
    "        if new_salary >= 0:\n",
    "            self.__salary = new_salary\n",
    "            print(f\"Salary updated to rs{new_salary}\")\n",
    "        else:\n",
    "            print(\"Invalid salary value.\")\n",
    "\n",
    "\n",
    "credit_card = CreditClass(initial_balance=1000, salary=5000)\n",
    "print(f\"Initial balance: rs{credit_card.get_balance()}\")\n",
    "credit_card.deposit(200)\n",
    "credit_card.withdraw(50)\n",
    "print(f\"Current balance: rs{credit_card.get_balance()}\")\n",
    "print(f\"Current salary: rs{credit_card.get_salary()}\")\n",
    "credit_card.set_salary(6000)\n",
    "print(f\"Updated salary: rs{credit_card.get_salary()}\")\n"
   ]
  },
  {
   "cell_type": "code",
   "execution_count": 6,
   "id": "f3ca4ac9",
   "metadata": {},
   "outputs": [
    {
     "name": "stdout",
     "output_type": "stream",
     "text": [
      "John is working.\n",
      "Name: John\n",
      "Salary: $50000\n"
     ]
    }
   ],
   "source": [
    "class Employee:\n",
    "    def __init__(self, name, salary):\n",
    "        self.name = name\n",
    "        self.__salary = salary  # Private variable\n",
    "\n",
    "    def work(self):\n",
    "        # Example behavior of the employee\n",
    "        print(f\"{self.name} is working.\")\n",
    "\n",
    "    def show(self):\n",
    "        # Displaying information about the employee\n",
    "        print(f\"Name: {self.name}\")\n",
    "        # Accessing private variable within the class\n",
    "        print(f\"Salary: ${self.__salary}\")\n",
    "\n",
    "\n",
    "# Example usage:\n",
    "employee1 = Employee(\"John\", 50000)\n",
    "employee1.work()  # Output: John is working.\n",
    "employee1.show()\n",
    "# Output:\n",
    "# Name: John\n",
    "# Salary: $50000\n",
    "\n",
    "# Try to access private variable directly (outside the class)\n",
    "# This will raise an AttributeError\n",
    "# print(employee1.__salary)\n"
   ]
  },
  {
   "cell_type": "code",
   "execution_count": null,
   "id": "7ed00323",
   "metadata": {},
   "outputs": [],
   "source": []
  }
 ],
 "metadata": {
  "kernelspec": {
   "display_name": "Python 3 (ipykernel)",
   "language": "python",
   "name": "python3"
  },
  "language_info": {
   "codemirror_mode": {
    "name": "ipython",
    "version": 3
   },
   "file_extension": ".py",
   "mimetype": "text/x-python",
   "name": "python",
   "nbconvert_exporter": "python",
   "pygments_lexer": "ipython3",
   "version": "3.11.5"
  }
 },
 "nbformat": 4,
 "nbformat_minor": 5
}
