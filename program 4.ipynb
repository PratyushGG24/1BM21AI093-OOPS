{
 "cells": [
  {
   "cell_type": "code",
   "execution_count": 7,
   "id": "81daa00c",
   "metadata": {},
   "outputs": [
    {
     "name": "stdout",
     "output_type": "stream",
     "text": [
      "Sedan Mileage: 20 MPG\n",
      "SUV Mileage: 15 MPG\n",
      "Hatchback Mileage: 25 MPG\n"
     ]
    }
   ],
   "source": [
    "from abc import ABC, abstractmethod\n",
    "\n",
    "\n",
    "class Car(ABC):\n",
    "    @abstractmethod\n",
    "    def mileage(self):\n",
    "        pass\n",
    "\n",
    "\n",
    "class Sedan(Car):\n",
    "    def mileage(self):\n",
    "        return 20  \n",
    "\n",
    "\n",
    "class SUV(Car):\n",
    "    def mileage(self):\n",
    "        return 15  \n",
    "\n",
    "\n",
    "class Hatchback(Car):\n",
    "    def mileage(self):\n",
    "        return 25  \n",
    "\n",
    "\n",
    "sedan_car = Sedan()\n",
    "suv_car = SUV()\n",
    "hatchback_car = Hatchback()\n",
    "\n",
    "\n",
    "print(f\"Sedan Mileage: {sedan_car.mileage()} MPG\")\n",
    "print(f\"SUV Mileage: {suv_car.mileage()} MPG\")\n",
    "print(f\"Hatchback Mileage: {hatchback_car.mileage()} MPG\")"
   ]
  },
  {
   "cell_type": "code",
   "execution_count": null,
   "id": "7d6923db",
   "metadata": {},
   "outputs": [],
   "source": []
  }
 ],
 "metadata": {
  "kernelspec": {
   "display_name": "Python 3 (ipykernel)",
   "language": "python",
   "name": "python3"
  },
  "language_info": {
   "codemirror_mode": {
    "name": "ipython",
    "version": 3
   },
   "file_extension": ".py",
   "mimetype": "text/x-python",
   "name": "python",
   "nbconvert_exporter": "python",
   "pygments_lexer": "ipython3",
   "version": "3.11.5"
  }
 },
 "nbformat": 4,
 "nbformat_minor": 5
}
