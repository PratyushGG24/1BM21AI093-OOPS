{
 "cells": [
  {
   "cell_type": "code",
   "execution_count": null,
   "id": "fe3655e8",
   "metadata": {},
   "outputs": [],
   "source": [
    "!pip install pygame\n",
    "import pygame\n",
    "import sys\n",
    "\n",
    "# Initialize Pygame\n",
    "pygame.init()\n",
    "\n",
    "# Set up the display\n",
    "width, height = 400, 400\n",
    "screen = pygame.display.set_mode((width, height))\n",
    "pygame.display.set_caption(\"Shapes Drawing\")\n",
    "\n",
    "# Define colors\n",
    "blue = (0, 0, 255)\n",
    "green = (0, 255, 0)\n",
    "black = (0, 0, 0)\n",
    "\n",
    "# Run the game loop\n",
    "while True:\n",
    "    for event in pygame.event.get():\n",
    "        if event.type == pygame.QUIT:\n",
    "            pygame.quit()\n",
    "            sys.exit()\n",
    "\n",
    "    # Draw the shapes\n",
    "    screen.fill((255, 255, 255))  # Fill the screen with white background\n",
    "\n",
    "    # 1. Draw Polygon\n",
    "    pygame.draw.polygon(screen, blue, [(146, 0), (291, 106), (236, 277), (56, 277), (0, 106)])\n",
    "\n",
    "    # 2. Draw Line\n",
    "    pygame.draw.line(screen, green, (60, 300), (120, 300), 4)\n",
    "\n",
    "    # 3. Draw Circle\n",
    "    pygame.draw.circle(screen, green, (300, 50), 20)\n",
    "\n",
    "    # 4. Draw Ellipse\n",
    "    pygame.draw.ellipse(screen, black, (300, 250, 40, 80), 1)\n",
    "\n",
    "    # 5. Draw Rectangle\n",
    "    pygame.draw.rect(screen, black, (150, 300, 100, 50))\n",
    "\n",
    "    pygame.display.flip()  # Update the display\n",
    "    pygame.time.Clock().tick(30)  # Cap the frame rate to 30 frames per second"
   ]
  },
  {
   "cell_type": "code",
   "execution_count": null,
   "id": "c2f3bfce",
   "metadata": {},
   "outputs": [],
   "source": []
  }
 ],
 "metadata": {
  "kernelspec": {
   "display_name": "Python 3 (ipykernel)",
   "language": "python",
   "name": "python3"
  },
  "language_info": {
   "codemirror_mode": {
    "name": "ipython",
    "version": 3
   },
   "file_extension": ".py",
   "mimetype": "text/x-python",
   "name": "python",
   "nbconvert_exporter": "python",
   "pygments_lexer": "ipython3",
   "version": "3.11.5"
  }
 },
 "nbformat": 4,
 "nbformat_minor": 5
}
