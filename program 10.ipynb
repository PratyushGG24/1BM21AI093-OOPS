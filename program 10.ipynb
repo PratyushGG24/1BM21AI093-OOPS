{
 "cells": [
  {
   "cell_type": "code",
   "execution_count": 1,
   "id": "1c3cd063",
   "metadata": {},
   "outputs": [
    {
     "name": "stdout",
     "output_type": "stream",
     "text": [
      "1 B 3 D E 6 7 H I 10 "
     ]
    }
   ],
   "source": [
    "import threading\n",
    "import time\n",
    "\n",
    "# Use a Lock for synchronization\n",
    "lock = threading.Lock()\n",
    "\n",
    "# Shared variable to control the alternating printing\n",
    "current_value = 1\n",
    "\n",
    "def function_A():\n",
    "    global current_value\n",
    "    for _ in range(5):\n",
    "        with lock:\n",
    "            print(current_value, end=' ')\n",
    "            current_value += 1\n",
    "        time.sleep(0.2)  # Simulate a time-consuming task\n",
    "\n",
    "def function_B():\n",
    "    global current_value\n",
    "    for _ in range(5):\n",
    "        with lock:\n",
    "            print(chr(ord('A') + current_value - 1), end=' ')\n",
    "            current_value += 1\n",
    "        time.sleep(0.2)  # Simulate a time-consuming task\n",
    "\n",
    "# Create threads\n",
    "thread_A = threading.Thread(target=function_A)\n",
    "thread_B = threading.Thread(target=function_B)\n",
    "\n",
    "# Start threads\n",
    "thread_A.start()\n",
    "thread_B.start()\n",
    "\n",
    "# Wait for threads to finish\n",
    "thread_A.join()\n",
    "thread_B.join()\n",
    "\n",
    "# Output may vary due to threading behavior, but you will see an alternating sequence of numbers and letters.\n"
   ]
  }
 ],
 "metadata": {
  "kernelspec": {
   "display_name": "Python 3 (ipykernel)",
   "language": "python",
   "name": "python3"
  },
  "language_info": {
   "codemirror_mode": {
    "name": "ipython",
    "version": 3
   },
   "file_extension": ".py",
   "mimetype": "text/x-python",
   "name": "python",
   "nbconvert_exporter": "python",
   "pygments_lexer": "ipython3",
   "version": "3.11.5"
  }
 },
 "nbformat": 4,
 "nbformat_minor": 5
}
