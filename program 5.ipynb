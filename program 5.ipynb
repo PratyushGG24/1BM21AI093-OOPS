{
 "cells": [
  {
   "cell_type": "code",
   "execution_count": 8,
   "id": "ad2518a1",
   "metadata": {},
   "outputs": [
    {
     "name": "stdout",
     "output_type": "stream",
     "text": [
      "Name: John, Age: 30\n",
      "Company: XYZ Corp, Location: New York\n",
      "Employee ID: E001\n"
     ]
    }
   ],
   "source": [
    "class Person:\n",
    "    def __init__(self, name, age):\n",
    "        self.name = name\n",
    "        self.age = age\n",
    "\n",
    "    def display_info(self):\n",
    "        print(f\"Name: {self.name}, Age: {self.age}\")\n",
    "\n",
    "\n",
    "class Company:\n",
    "    def __init__(self, company_name, location):\n",
    "        self.company_name = company_name\n",
    "        self.location = location\n",
    "\n",
    "    def display_info(self):\n",
    "        print(f\"Company: {self.company_name}, Location: {self.location}\")\n",
    "\n",
    "\n",
    "class Employee(Person, Company):\n",
    "    def __init__(self, name, age, company_name, location, employee_id):\n",
    "        Person.__init__(self, name, age)\n",
    "        Company.__init__(self, company_name, location)\n",
    "        self.employee_id = employee_id\n",
    "\n",
    "    def display_info(self):\n",
    "        Person.display_info(self)\n",
    "        Company.display_info(self)\n",
    "        print(f\"Employee ID: {self.employee_id}\")\n",
    "\n",
    "\n",
    "# Example usage:\n",
    "employee1 = Employee(\"John\", 30, \"XYZ Corp\", \"New York\", \"E001\")\n",
    "employee1.display_info()\n"
   ]
  },
  {
   "cell_type": "code",
   "execution_count": 9,
   "id": "eea3ff52",
   "metadata": {},
   "outputs": [
    {
     "name": "stdout",
     "output_type": "stream",
     "text": [
      "Make: Toyota, Model: Camry\n",
      "Make: Ford, Model: Mustang\n",
      "Color: Red\n",
      "Make: Ferrari, Model: 488 GTB\n",
      "Color: Yellow\n",
      "Top Speed: 205 mph\n"
     ]
    }
   ],
   "source": [
    "class Vehicle:\n",
    "    def __init__(self, make, model):\n",
    "        self.make = make\n",
    "        self.model = model\n",
    "\n",
    "    def display_info(self):\n",
    "        print(f\"Make: {self.make}, Model: {self.model}\")\n",
    "\n",
    "\n",
    "class Car(Vehicle):\n",
    "    def __init__(self, make, model, color):\n",
    "        super().__init__(make, model)\n",
    "        self.color = color\n",
    "\n",
    "    def display_info(self):\n",
    "        super().display_info()\n",
    "        print(f\"Color: {self.color}\")\n",
    "\n",
    "\n",
    "class SportsCar(Car):\n",
    "    def __init__(self, make, model, color, top_speed):\n",
    "        super().__init__(make, model, color)\n",
    "        self.top_speed = top_speed\n",
    "\n",
    "    def display_info(self):\n",
    "        super().display_info()\n",
    "        print(f\"Top Speed: {self.top_speed} mph\")\n",
    "\n",
    "\n",
    "# Example usage:\n",
    "vehicle = Vehicle(\"Toyota\", \"Camry\")\n",
    "vehicle.display_info()\n",
    "\n",
    "car = Car(\"Ford\", \"Mustang\", \"Red\")\n",
    "car.display_info()\n",
    "\n",
    "sports_car = SportsCar(\"Ferrari\", \"488 GTB\", \"Yellow\", 205)\n",
    "sports_car.display_info()\n"
   ]
  },
  {
   "cell_type": "code",
   "execution_count": null,
   "id": "1c192f7c",
   "metadata": {},
   "outputs": [],
   "source": []
  }
 ],
 "metadata": {
  "kernelspec": {
   "display_name": "Python 3 (ipykernel)",
   "language": "python",
   "name": "python3"
  },
  "language_info": {
   "codemirror_mode": {
    "name": "ipython",
    "version": 3
   },
   "file_extension": ".py",
   "mimetype": "text/x-python",
   "name": "python",
   "nbconvert_exporter": "python",
   "pygments_lexer": "ipython3",
   "version": "3.11.5"
  }
 },
 "nbformat": 4,
 "nbformat_minor": 5
}
